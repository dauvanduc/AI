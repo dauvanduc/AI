{
  "nbformat": 4,
  "nbformat_minor": 0,
  "metadata": {
    "colab": {
      "name": "ML.ipynb",
      "provenance": [],
      "authorship_tag": "ABX9TyNIOJ/rShq+BLwKT67KtB6z",
      "include_colab_link": true
    },
    "kernelspec": {
      "name": "python3",
      "display_name": "Python 3"
    },
    "language_info": {
      "name": "python"
    }
  },
  "cells": [
    {
      "cell_type": "markdown",
      "metadata": {
        "id": "view-in-github",
        "colab_type": "text"
      },
      "source": [
        "<a href=\"https://colab.research.google.com/github/dauvanduc/AI/blob/main/ML.ipynb\" target=\"_parent\"><img src=\"https://colab.research.google.com/assets/colab-badge.svg\" alt=\"Open In Colab\"/></a>"
      ]
    },
    {
      "cell_type": "code",
      "execution_count": 1,
      "metadata": {
        "id": "kizGQMCukYR3"
      },
      "outputs": [],
      "source": [
        "# Load library\n",
        "import numpy as np\n",
        "# Create a vector as a row\n",
        "vector_row = np.array([1, 2, 3])\n",
        "# Create a vector as a column\n",
        "vector_column = np.array([[1],\n",
        "[2],\n",
        "[3]])"
      ]
    },
    {
      "cell_type": "code",
      "source": [
        "# Load library\n",
        "import numpy as np\n",
        "# Create a matrix\n",
        "matrix = np.array([[1, 2],\n",
        "[1, 2],\n",
        "[1, 2]])"
      ],
      "metadata": {
        "id": "-iTRbesYkdRN"
      },
      "execution_count": 2,
      "outputs": []
    },
    {
      "cell_type": "code",
      "source": [
        "import numpy as np\n",
        "from scipy import sparse\n",
        "# Create a matrix\n",
        "matrix = np.array([[0, 0],\n",
        "[0, 1],\n",
        "[3, 0]])\n",
        "# Create compressed sparse row (CSR) matrix\n",
        "matrix_sparse = sparse.csr_matrix(matrix)"
      ],
      "metadata": {
        "id": "oQxjH0R1kfKS"
      },
      "execution_count": 3,
      "outputs": []
    },
    {
      "cell_type": "code",
      "source": [
        "# View sparse matrix\n",
        "print(matrix_sparse)"
      ],
      "metadata": {
        "colab": {
          "base_uri": "https://localhost:8080/"
        },
        "id": "JJitgFvtkfNN",
        "outputId": "5982b612-b93c-45d6-c3f9-03ef140e375b"
      },
      "execution_count": 4,
      "outputs": [
        {
          "output_type": "stream",
          "name": "stdout",
          "text": [
            "  (1, 1)\t1\n",
            "  (2, 0)\t3\n"
          ]
        }
      ]
    },
    {
      "cell_type": "code",
      "source": [
        "# Create larger matrix\n",
        "matrix_large = np.array([[0, 0, 0, 0, 0, 0, 0, 0, 0, 0],\n",
        "[0, 1, 0, 0, 0, 0, 0, 0, 0, 0],\n",
        "[3, 0, 0, 0, 0, 0, 0, 0, 0, 0]])\n",
        "# Create compressed sparse row (CSR) matrix\n",
        "matrix_large_sparse = sparse.csr_matrix(matrix_large)\n",
        "# View original sparse matrix\n",
        "print(matrix_sparse)"
      ],
      "metadata": {
        "colab": {
          "base_uri": "https://localhost:8080/"
        },
        "id": "Ls-7YUxIkfQo",
        "outputId": "c599c30f-6bd1-40c0-f98c-fdd93f38c3ad"
      },
      "execution_count": 5,
      "outputs": [
        {
          "output_type": "stream",
          "name": "stdout",
          "text": [
            "  (1, 1)\t1\n",
            "  (2, 0)\t3\n"
          ]
        }
      ]
    }
  ]
}